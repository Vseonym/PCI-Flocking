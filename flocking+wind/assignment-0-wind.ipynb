{
 "cells": [
  {
   "cell_type": "code",
   "execution_count": 1,
   "id": "dff37319",
   "metadata": {},
   "outputs": [
    {
     "name": "stdout",
     "output_type": "stream",
     "text": [
      "pygame 2.6.1 (SDL 2.28.4, Python 3.12.3)\n",
      "Hello from the pygame community. https://www.pygame.org/contribute.html\n"
     ]
    }
   ],
   "source": [
    "from dataclasses import dataclass, field\n",
    "from vi import Agent, Config, Simulation, Vector2\n",
    "import random"
   ]
  },
  {
   "cell_type": "code",
   "execution_count": 4,
   "id": "301c61e3",
   "metadata": {},
   "outputs": [
    {
     "data": {
      "text/plain": [
       "<vi.metrics.Metrics at 0x1ad89217770>"
      ]
     },
     "execution_count": 4,
     "metadata": {},
     "output_type": "execute_result"
    }
   ],
   "source": [
    "@dataclass\n",
    "class FlockingConfig(Config):\n",
    "    alignment_weight: float = 1.1\n",
    "    cohesion_weight: float = 0.03\n",
    "    separation_weight: float = 3.1\n",
    "    wind_weight: float = 0.1\n",
    "    wind_direction: Vector2 = field(default_factory=lambda: Vector2(1, 0))\n",
    "\n",
    "    def update_wind_direction(self, mutation_range = 1.0):\n",
    "        dx = random.uniform(-mutation_range, mutation_range)\n",
    "        dy = random.uniform(-mutation_range, mutation_range)\n",
    "        self.wind_direction += Vector2(dx, dy)\n",
    "        self.wind_direction = self.wind_direction.normalize()\n",
    "\n",
    "class FlockingAgent(Agent):\n",
    "    def update_wind_tolerance(self):\n",
    "        move_norm = self.move.normalize() if self.move.length() > 0 else Vector2(0, 0)\n",
    "\n",
    "        alignment = move_norm.dot(self.config.wind_direction)\n",
    "\n",
    "        # update tolerance:\n",
    "        # we increase it if moving against the wind (alignment < 0)\n",
    "        # we decrease it slightly if moving with the wind (alignment > 0)\n",
    "        if alignment < 0:\n",
    "            self.wind_tolerance += abs(alignment) * 0.01  # learning rate when resisting wind\n",
    "        else:\n",
    "            self.wind_tolerance -= alignment * 0.0001       # decay rate when going with wind\n",
    "\n",
    "        self.wind_tolerance = max(0.0, min(1.0, self.wind_tolerance))\n",
    "\n",
    "    def on_spawn(self):\n",
    "        self.wind_tolerance: float = 0.001\n",
    "\n",
    "    def change_position(self):\n",
    "        self.there_is_no_escape()\n",
    "        neighbors = list(self.in_proximity_accuracy())\n",
    "\n",
    "        if not neighbors:\n",
    "            self.pos += self.move \n",
    "            return\n",
    "        \n",
    "        separationVelocity = Vector2() # move away from nearby agents\n",
    "        alignmentVelocity = Vector2() # match the average direction of nearby agents\n",
    "        cohesionVelocity = Vector2() # move toward the average position of nearby agents\n",
    "        num_neighbors = len(neighbors)\n",
    "\n",
    "        for neighbor, distance in neighbors: # loop trough each nearby agent.\n",
    "            offset = self.pos - neighbor.pos # a vector pointing away from the neighbor\n",
    "            if distance > 0:\n",
    "                separationVelocity += offset / (distance**1.3) # push neighbors away\n",
    "\n",
    "            alignmentVelocity += neighbor.move # sum al neighbors movement direction\n",
    "            cohesionVelocity += neighbor.pos # sum all neigbors position\n",
    "\n",
    "        # take the average of each vector to get a single direction fro each behavior\n",
    "        separationVelocity /= num_neighbors\n",
    "        alignmentVelocity /= num_neighbors\n",
    "        cohesionVelocity = (cohesionVelocity / num_neighbors - self.pos)\n",
    "\n",
    "        # multiply bt weights\n",
    "        separationVelocity *= self.config.separation_weight\n",
    "        alignmentVelocity *= self.config.alignment_weight\n",
    "        cohesionVelocity *= self.config.cohesion_weight\n",
    "\n",
    "        # single movement vector for all behaviors\n",
    "        self.move = (separationVelocity + alignmentVelocity + cohesionVelocity).normalize() * self.config.movement_speed\n",
    "        wind_effect = self.config.wind_direction * self.config.wind_weight * (1.0 - self.wind_tolerance)\n",
    "        self.pos += self.move + wind_effect\n",
    "\n",
    "        self.update_wind_tolerance()  # update wind tolerance based on current movement vector\n",
    "        if random.random() < 0.01: # 1% chance to change wind direction and strength\n",
    "            self.config.update_wind_direction()\n",
    "\n",
    "(\n",
    "    Simulation(\n",
    "        FlockingConfig(image_rotation = True, movement_speed = 1.5, radius = 50, seed = 777, duration = 10000, fps_limit = 60)\n",
    "    )\n",
    "    .batch_spawn_agents(100, FlockingAgent, images=[\"images/triangle.png\"])\n",
    "    .run()\n",
    ")"
   ]
  }
 ],
 "metadata": {
  "kernelspec": {
   "display_name": "main",
   "language": "python",
   "name": "python3"
  },
  "language_info": {
   "codemirror_mode": {
    "name": "ipython",
    "version": 3
   },
   "file_extension": ".py",
   "mimetype": "text/x-python",
   "name": "python",
   "nbconvert_exporter": "python",
   "pygments_lexer": "ipython3",
   "version": "3.12.3"
  }
 },
 "nbformat": 4,
 "nbformat_minor": 5
}
