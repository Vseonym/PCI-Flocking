{
 "cells": [
  {
   "cell_type": "code",
   "execution_count": 1,
   "id": "dff37319",
   "metadata": {},
   "outputs": [
    {
     "name": "stdout",
     "output_type": "stream",
     "text": [
      "pygame 2.6.1 (SDL 2.28.4, Python 3.12.3)\n",
      "Hello from the pygame community. https://www.pygame.org/contribute.html\n"
     ]
    }
   ],
   "source": [
    "from dataclasses import dataclass, field\n",
    "from vi import Agent, Config, Simulation, Vector2\n",
    "import random\n",
    "random.seed(777)"
   ]
  },
  {
   "cell_type": "code",
   "execution_count": null,
   "id": "301c61e3",
   "metadata": {},
   "outputs": [
    {
     "data": {
      "text/plain": [
       "<vi.metrics.Metrics at 0x1d8fda1c200>"
      ]
     },
     "execution_count": 2,
     "metadata": {},
     "output_type": "execute_result"
    },
    {
     "ename": "",
     "evalue": "",
     "output_type": "error",
     "traceback": [
      "\u001b[1;31mThe Kernel crashed while executing code in the current cell or a previous cell. \n",
      "\u001b[1;31mPlease review the code in the cell(s) to identify a possible cause of the failure. \n",
      "\u001b[1;31mClick <a href='https://aka.ms/vscodeJupyterKernelCrash'>here</a> for more info. \n",
      "\u001b[1;31mView Jupyter <a href='command:jupyter.viewOutput'>log</a> for further details."
     ]
    }
   ],
   "source": [
    "@dataclass\n",
    "class FlockingConfig(Config):\n",
    "    alignment_weight: float = 1.1\n",
    "    cohesion_weight: float = 0.03\n",
    "    separation_weight: float = 3.1\n",
    "    wind_strength: float = 0.0\n",
    "    wind_direction: Vector2 = field(default_factory=lambda: Vector2(1, 0))\n",
    "\n",
    "class FlockingAgent(Agent):\n",
    "    def change_position(self):\n",
    "        self.there_is_no_escape()\n",
    "\n",
    "        neighbors = list(self.in_proximity_accuracy())\n",
    "\n",
    "        if not neighbors:\n",
    "            self.pos += self.move \n",
    "            return\n",
    "        \n",
    "        separationVelocity = Vector2() # move away from nearby agents\n",
    "        alignmentVelocity = Vector2() # match the average direction of nearby agents\n",
    "        cohesionVelocity = Vector2() # move toward the average position of nearby agents\n",
    "        num_neighbors = len(neighbors)\n",
    "\n",
    "        for neighbor, distance in neighbors: # loop trough each nearby agent.\n",
    "            offset = self.pos - neighbor.pos # a vector pointing away from the neighbor\n",
    "            if distance > 0:\n",
    "                separationVelocity += offset / (distance**1.3) # push neighbors away\n",
    "\n",
    "            alignmentVelocity += neighbor.move # sum al neighbors movement direction\n",
    "            cohesionVelocity += neighbor.pos # sum all neigbors position\n",
    "\n",
    "        # take the average of each vector to get a single direction fro each behavior\n",
    "        separationVelocity /= num_neighbors\n",
    "        alignmentVelocity /= num_neighbors\n",
    "        cohesionVelocity = (cohesionVelocity / num_neighbors - self.pos)\n",
    "\n",
    "        # multiply bt weights\n",
    "        separationVelocity *= self.config.separation_weight\n",
    "        alignmentVelocity *= self.config.alignment_weight\n",
    "        cohesionVelocity *= self.config.cohesion_weight\n",
    "\n",
    "        windStrengthMutation = self.config.wind_strength + random.randint(-1, 1) * 0.0001\n",
    "        self.config.wind_strength = max(0, windStrengthMutation)\n",
    "        windDirectionMutation = self.config.wind_direction.rotate(random.randint(-5, 5))\n",
    "        self.config.wind_direction = windDirectionMutation.normalize()\n",
    "        windVelocity = windDirectionMutation * windStrengthMutation if windStrengthMutation > 0 else Vector2(0, 0)\n",
    "        \n",
    "        # single movement vector for all behaviors\n",
    "        self.move = (separationVelocity + alignmentVelocity + cohesionVelocity).normalize() * self.config.movement_speed\n",
    "        self.pos += windVelocity\n",
    "        self.pos += self.move\n",
    "\n",
    "(\n",
    "    Simulation(\n",
    "        FlockingConfig(image_rotation = True, movement_speed = 2.0, radius = 50, seed = 777, duration = 10000, fps_limit = 60)\n",
    "    )\n",
    "    .batch_spawn_agents(100, FlockingAgent, images=[\"images/triangle.png\"])\n",
    "    .run()\n",
    ")"
   ]
  }
 ],
 "metadata": {
  "kernelspec": {
   "display_name": "main",
   "language": "python",
   "name": "python3"
  },
  "language_info": {
   "codemirror_mode": {
    "name": "ipython",
    "version": 3
   },
   "file_extension": ".py",
   "mimetype": "text/x-python",
   "name": "python",
   "nbconvert_exporter": "python",
   "pygments_lexer": "ipython3",
   "version": "3.12.3"
  }
 },
 "nbformat": 4,
 "nbformat_minor": 5
}
