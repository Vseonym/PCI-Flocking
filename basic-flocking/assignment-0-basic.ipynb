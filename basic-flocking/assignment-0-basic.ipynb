{
 "cells": [
  {
   "cell_type": "code",
   "execution_count": 1,
   "id": "dff37319",
   "metadata": {},
   "outputs": [
    {
     "name": "stdout",
     "output_type": "stream",
     "text": [
      "pygame 2.6.1 (SDL 2.28.4, Python 3.12.3)\n",
      "Hello from the pygame community. https://www.pygame.org/contribute.html\n"
     ]
    }
   ],
   "source": [
    "from dataclasses import dataclass\n",
    "from vi import Agent, Config, Simulation, Vector2"
   ]
  },
  {
   "cell_type": "code",
   "execution_count": null,
   "id": "301c61e3",
   "metadata": {},
   "outputs": [
    {
     "ename": "KeyboardInterrupt",
     "evalue": "",
     "output_type": "error",
     "traceback": [
      "\u001b[31m---------------------------------------------------------------------------\u001b[39m",
      "\u001b[31mKeyboardInterrupt\u001b[39m                         Traceback (most recent call last)",
      "\u001b[36mCell\u001b[39m\u001b[36m \u001b[39m\u001b[32mIn[3]\u001b[39m\u001b[32m, line 49\u001b[39m\n\u001b[32m     41\u001b[39m         \u001b[38;5;28mself\u001b[39m.move = (separationVelocity + alignmentVelocity + cohesionVelocity).normalize() * \u001b[38;5;28mself\u001b[39m.config.movement_speed\n\u001b[32m     42\u001b[39m         \u001b[38;5;28mself\u001b[39m.pos += \u001b[38;5;28mself\u001b[39m.move\n\u001b[32m     44\u001b[39m (\n\u001b[32m     45\u001b[39m     \u001b[43mSimulation\u001b[49m\u001b[43m(\u001b[49m\n\u001b[32m     46\u001b[39m \u001b[43m        \u001b[49m\u001b[43mFlockingConfig\u001b[49m\u001b[43m(\u001b[49m\u001b[43mimage_rotation\u001b[49m\u001b[43m \u001b[49m\u001b[43m=\u001b[49m\u001b[43m \u001b[49m\u001b[38;5;28;43;01mTrue\u001b[39;49;00m\u001b[43m,\u001b[49m\u001b[43m \u001b[49m\u001b[43mmovement_speed\u001b[49m\u001b[43m \u001b[49m\u001b[43m=\u001b[49m\u001b[43m \u001b[49m\u001b[32;43m2.0\u001b[39;49m\u001b[43m,\u001b[49m\u001b[43m \u001b[49m\u001b[43mradius\u001b[49m\u001b[43m \u001b[49m\u001b[43m=\u001b[49m\u001b[43m \u001b[49m\u001b[32;43m50\u001b[39;49m\u001b[43m,\u001b[49m\u001b[43m \u001b[49m\u001b[43mseed\u001b[49m\u001b[43m \u001b[49m\u001b[43m=\u001b[49m\u001b[43m \u001b[49m\u001b[32;43m777\u001b[39;49m\u001b[43m,\u001b[49m\u001b[43m \u001b[49m\u001b[43mduration\u001b[49m\u001b[43m \u001b[49m\u001b[43m=\u001b[49m\u001b[43m \u001b[49m\u001b[32;43m10000\u001b[39;49m\u001b[43m,\u001b[49m\u001b[43m \u001b[49m\u001b[43mfps_limit\u001b[49m\u001b[43m \u001b[49m\u001b[43m=\u001b[49m\u001b[43m \u001b[49m\u001b[32;43m60\u001b[39;49m\u001b[43m)\u001b[49m\n\u001b[32m     47\u001b[39m \u001b[43m    \u001b[49m\u001b[43m)\u001b[49m\n\u001b[32m     48\u001b[39m \u001b[43m    \u001b[49m\u001b[43m.\u001b[49m\u001b[43mbatch_spawn_agents\u001b[49m\u001b[43m(\u001b[49m\u001b[32;43m100\u001b[39;49m\u001b[43m,\u001b[49m\u001b[43m \u001b[49m\u001b[43mFlockingAgent\u001b[49m\u001b[43m,\u001b[49m\u001b[43m \u001b[49m\u001b[43mimages\u001b[49m\u001b[43m=\u001b[49m\u001b[43m[\u001b[49m\u001b[33;43m\"\u001b[39;49m\u001b[33;43mimages/triangle.png\u001b[39;49m\u001b[33;43m\"\u001b[39;49m\u001b[43m]\u001b[49m\u001b[43m)\u001b[49m\n\u001b[32m---> \u001b[39m\u001b[32m49\u001b[39m \u001b[43m    \u001b[49m\u001b[43m.\u001b[49m\u001b[43mrun\u001b[49m\u001b[43m(\u001b[49m\u001b[43m)\u001b[49m\n\u001b[32m     50\u001b[39m )\n",
      "\u001b[36mFile \u001b[39m\u001b[32mc:\\Users\\georg\\anaconda3\\envs\\main\\Lib\\site-packages\\vi\\simulation.py:311\u001b[39m, in \u001b[36mHeadlessSimulation.run\u001b[39m\u001b[34m(self)\u001b[39m\n\u001b[32m    308\u001b[39m \u001b[38;5;28mself\u001b[39m._running = \u001b[38;5;28;01mTrue\u001b[39;00m\n\u001b[32m    310\u001b[39m \u001b[38;5;28;01mwhile\u001b[39;00m \u001b[38;5;28mself\u001b[39m._running:\n\u001b[32m--> \u001b[39m\u001b[32m311\u001b[39m     \u001b[38;5;28;43mself\u001b[39;49m\u001b[43m.\u001b[49m\u001b[43mtick\u001b[49m\u001b[43m(\u001b[49m\u001b[43m)\u001b[49m\n\u001b[32m    313\u001b[39m \u001b[38;5;28;01mreturn\u001b[39;00m \u001b[38;5;28mself\u001b[39m._metrics\n",
      "\u001b[36mFile \u001b[39m\u001b[32mc:\\Users\\georg\\anaconda3\\envs\\main\\Lib\\site-packages\\vi\\simulation.py:353\u001b[39m, in \u001b[36mHeadlessSimulation.tick\u001b[39m\u001b[34m(self)\u001b[39m\n\u001b[32m    350\u001b[39m \u001b[38;5;66;03m# Merge the collected snapshots into the dataframe.\u001b[39;00m\n\u001b[32m    351\u001b[39m \u001b[38;5;28mself\u001b[39m._metrics._merge()\n\u001b[32m--> \u001b[39m\u001b[32m353\u001b[39m \u001b[38;5;28;43mself\u001b[39;49m\u001b[43m.\u001b[49m\u001b[43mafter_update\u001b[49m\u001b[43m(\u001b[49m\u001b[43m)\u001b[49m\n\u001b[32m    355\u001b[39m \u001b[38;5;66;03m# If we've reached the duration of the simulation, then stop the simulation.\u001b[39;00m\n\u001b[32m    356\u001b[39m \u001b[38;5;28;01mif\u001b[39;00m \u001b[38;5;28mself\u001b[39m.config.duration > \u001b[32m0\u001b[39m \u001b[38;5;129;01mand\u001b[39;00m \u001b[38;5;28mself\u001b[39m.shared.counter == \u001b[38;5;28mself\u001b[39m.config.duration:\n",
      "\u001b[36mFile \u001b[39m\u001b[32mc:\\Users\\georg\\anaconda3\\envs\\main\\Lib\\site-packages\\vi\\simulation.py:474\u001b[39m, in \u001b[36mSimulation.after_update\u001b[39m\u001b[34m(self)\u001b[39m\n\u001b[32m    471\u001b[39m \u001b[38;5;66;03m# Update the screen with the new image\u001b[39;00m\n\u001b[32m    472\u001b[39m pg.display.flip()\n\u001b[32m--> \u001b[39m\u001b[32m474\u001b[39m \u001b[38;5;28;43mself\u001b[39;49m\u001b[43m.\u001b[49m\u001b[43m_clock\u001b[49m\u001b[43m.\u001b[49m\u001b[43mtick\u001b[49m\u001b[43m(\u001b[49m\u001b[38;5;28;43mself\u001b[39;49m\u001b[43m.\u001b[49m\u001b[43mconfig\u001b[49m\u001b[43m.\u001b[49m\u001b[43mfps_limit\u001b[49m\u001b[43m)\u001b[49m\n\u001b[32m    476\u001b[39m current_fps = \u001b[38;5;28mself\u001b[39m._clock.get_fps()\n\u001b[32m    477\u001b[39m \u001b[38;5;28;01mif\u001b[39;00m current_fps > \u001b[32m0\u001b[39m:\n",
      "\u001b[31mKeyboardInterrupt\u001b[39m: "
     ]
    },
    {
     "ename": "",
     "evalue": "",
     "output_type": "error",
     "traceback": [
      "\u001b[1;31mThe Kernel crashed while executing code in the current cell or a previous cell. \n",
      "\u001b[1;31mPlease review the code in the cell(s) to identify a possible cause of the failure. \n",
      "\u001b[1;31mClick <a href='https://aka.ms/vscodeJupyterKernelCrash'>here</a> for more info. \n",
      "\u001b[1;31mView Jupyter <a href='command:jupyter.viewOutput'>log</a> for further details."
     ]
    }
   ],
   "source": [
    "@dataclass\n",
    "class FlockingConfig(Config):\n",
    "    alignment_weight: float = 1.1\n",
    "    cohesion_weight: float = 0.03\n",
    "    separation_weight: float = 3.1\n",
    "\n",
    "class FlockingAgent(Agent):\n",
    "    def change_position(self):\n",
    "        self.there_is_no_escape()\n",
    "\n",
    "        neighbors = list(self.in_proximity_accuracy())\n",
    "\n",
    "        if not neighbors:\n",
    "            self.pos += self.move \n",
    "            return\n",
    "        \n",
    "        separationVelocity = Vector2() # move away from nearby agents\n",
    "        alignmentVelocity = Vector2() # match the average direction of nearby agents\n",
    "        cohesionVelocity = Vector2() # move toward the average position of nearby agents\n",
    "        num_neighbors = len(neighbors)\n",
    "\n",
    "        for neighbor, distance in neighbors: # loop trough each nearby agent.\n",
    "            offset = self.pos - neighbor.pos # a vector pointing away from the neighbor\n",
    "            if distance > 0:\n",
    "                separationVelocity += offset / (distance**1.3) # push neighbors away\n",
    "\n",
    "            alignmentVelocity += neighbor.move # sum al neighbors movement direction\n",
    "            cohesionVelocity += neighbor.pos # sum all neigbors position\n",
    "\n",
    "        # take the average of each vector to get a single direction fro each behavior\n",
    "        separationVelocity /= num_neighbors\n",
    "        alignmentVelocity /= num_neighbors\n",
    "        cohesionVelocity = (cohesionVelocity / num_neighbors - self.pos)\n",
    "\n",
    "        # multiply bt weights\n",
    "        separationVelocity *= self.config.separation_weight\n",
    "        alignmentVelocity *= self.config.alignment_weight\n",
    "        cohesionVelocity *= self.config.cohesion_weight\n",
    "\n",
    "        # single movement vector for all behaviors\n",
    "        self.move = (separationVelocity + alignmentVelocity + cohesionVelocity).normalize() * self.config.movement_speed\n",
    "        self.pos += self.move\n",
    "\n",
    "(\n",
    "    Simulation(\n",
    "        FlockingConfig(image_rotation = True, movement_speed = 2.0, radius = 50, seed = 777, duration = 10000, fps_limit = 60)\n",
    "    )\n",
    "    .batch_spawn_agents(100, FlockingAgent, images=[\"images/triangle.png\"])\n",
    "    .run()\n",
    ")"
   ]
  }
 ],
 "metadata": {
  "kernelspec": {
   "display_name": "main",
   "language": "python",
   "name": "python3"
  },
  "language_info": {
   "codemirror_mode": {
    "name": "ipython",
    "version": 3
   },
   "file_extension": ".py",
   "mimetype": "text/x-python",
   "name": "python",
   "nbconvert_exporter": "python",
   "pygments_lexer": "ipython3",
   "version": "3.12.3"
  }
 },
 "nbformat": 4,
 "nbformat_minor": 5
}
