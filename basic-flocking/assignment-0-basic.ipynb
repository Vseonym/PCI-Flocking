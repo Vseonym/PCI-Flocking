{
 "cells": [
  {
   "cell_type": "code",
   "execution_count": 16,
   "id": "dff37319",
   "metadata": {},
   "outputs": [],
   "source": [
    "from dataclasses import dataclass\n",
    "from vi import Agent, Config, Simulation, Vector2\n",
    "import pygame as pg\n",
    "import os"
   ]
  },
  {
   "cell_type": "code",
   "execution_count": 17,
   "id": "0d6d687a",
   "metadata": {},
   "outputs": [],
   "source": [
    "frame_dir = \"frames\"\n",
    "os.makedirs(frame_dir, exist_ok=True)\n",
    "frame_count = 0\n",
    "\n",
    "def save_frame(screen):\n",
    "    global frame_count\n",
    "    pg.image.save(screen, os.path.join(frame_dir, f\"frame_{frame_count:05d}.png\"))\n",
    "    frame_count += 1"
   ]
  },
  {
   "cell_type": "code",
   "execution_count": 22,
   "id": "59c2e8be",
   "metadata": {},
   "outputs": [],
   "source": [
    "class RecordingSimulation(Simulation):\n",
    "    def __init__(self, config):\n",
    "        super().__init__(config)\n",
    "        self.frame_count = 0\n",
    "        os.makedirs(\"frames\", exist_ok=True)\n",
    "\n",
    "    def after_update(self) -> None:\n",
    "        # Draw everything to the screen\n",
    "        self._all.draw(self._screen)\n",
    "\n",
    "        if self.config.visualise_chunks:\n",
    "            self.__visualise_chunks()\n",
    "\n",
    "        # Save current frame as an image\n",
    "        pg.image.save(self._screen, f\"frames/frame_{self.frame_count:05d}.png\")\n",
    "\n",
    "        # Update the screen with the new image\n",
    "        pg.display.flip()\n",
    "\n",
    "        self._clock.tick(self.config.fps_limit)\n",
    "\n",
    "        current_fps = self._clock.get_fps()\n",
    "        if current_fps > 0:\n",
    "            self._metrics.fps._push(current_fps)\n",
    "\n",
    "            if self.config.print_fps:\n",
    "                print(f\"FPS: {current_fps:.1f}\")  # noqa: T201\n",
    "\n",
    "        # Increment a frame counter (you may need to initialize it somewhere)\n",
    "        self.frame_count += 1\n"
   ]
  },
  {
   "cell_type": "code",
   "execution_count": null,
   "id": "301c61e3",
   "metadata": {},
   "outputs": [
    {
     "data": {
      "text/plain": [
       "<vi.metrics.Metrics at 0x1c92a167ce0>"
      ]
     },
     "execution_count": 31,
     "metadata": {},
     "output_type": "execute_result"
    },
    {
     "ename": "",
     "evalue": "",
     "output_type": "error",
     "traceback": [
      "\u001b[1;31mThe Kernel crashed while executing code in the current cell or a previous cell. \n",
      "\u001b[1;31mPlease review the code in the cell(s) to identify a possible cause of the failure. \n",
      "\u001b[1;31mClick <a href='https://aka.ms/vscodeJupyterKernelCrash'>here</a> for more info. \n",
      "\u001b[1;31mView Jupyter <a href='command:jupyter.viewOutput'>log</a> for further details."
     ]
    }
   ],
   "source": [
    "@dataclass\n",
    "class FlockingConfig(Config):\n",
    "    alignment_weight: float = 1.0\n",
    "    cohesion_weight: float = 0.04\n",
    "    separation_weight: float = 2.85\n",
    "\n",
    "class FlockingAgent(Agent):\n",
    "    def change_position(self):\n",
    "        self.there_is_no_escape()\n",
    "\n",
    "        neighbors = list(self.in_proximity_accuracy())\n",
    "\n",
    "        if not neighbors:\n",
    "            self.pos += self.move\n",
    "            return\n",
    "        \n",
    "        separationVelocity = Vector2() # move away from nearby agents\n",
    "        alignmentVelocity = Vector2() # match the average direction of nearby agents\n",
    "        cohesionVelocity = Vector2() # move toward the average position of nearby agents\n",
    "        num_neighbors = len(neighbors)\n",
    "\n",
    "        for neighbor, distance in neighbors: # loop trough each nearby agent.\n",
    "            offset = self.pos - neighbor.pos # a vector pointing away from the neighbor\n",
    "            if distance > 0:\n",
    "                separationVelocity += offset / (distance**1.2) # push neighbors away\n",
    "\n",
    "            alignmentVelocity += neighbor.move # sum al neighbors movement direction\n",
    "            cohesionVelocity += neighbor.pos # sum all neigbors position\n",
    "\n",
    "        # take the average of each vector to get a single direction fro each behavior\n",
    "        separationVelocity /= num_neighbors\n",
    "        alignmentVelocity /= num_neighbors\n",
    "        cohesionVelocity = (cohesionVelocity / num_neighbors - self.pos)\n",
    "\n",
    "        # multiply bt weights\n",
    "        separationVelocity *= self.config.separation_weight\n",
    "        alignmentVelocity *= self.config.alignment_weight\n",
    "        cohesionVelocity *= self.config.cohesion_weight\n",
    "\n",
    "        # single movement vector for all behaviors\n",
    "        self.move = (separationVelocity + alignmentVelocity + cohesionVelocity).normalize() * self.config.movement_speed\n",
    "        self.pos += self.move\n",
    "\n",
    "(\n",
    "    RecordingSimulation(\n",
    "        FlockingConfig(image_rotation = True, movement_speed = 5.0, radius = 50, seed = 777, duration = 10000, fps_limit = 60)\n",
    "    )\n",
    "    .batch_spawn_agents(100, FlockingAgent, images=[\"images/triangle.png\"])\n",
    "    .run()\n",
    ")"
   ]
  }
 ],
 "metadata": {
  "kernelspec": {
   "display_name": "main",
   "language": "python",
   "name": "python3"
  },
  "language_info": {
   "codemirror_mode": {
    "name": "ipython",
    "version": 3
   },
   "file_extension": ".py",
   "mimetype": "text/x-python",
   "name": "python",
   "nbconvert_exporter": "python",
   "pygments_lexer": "ipython3",
   "version": "3.12.3"
  }
 },
 "nbformat": 4,
 "nbformat_minor": 5
}
