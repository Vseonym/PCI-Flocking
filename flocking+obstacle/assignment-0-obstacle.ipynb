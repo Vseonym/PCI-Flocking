{
 "cells": [
  {
   "cell_type": "code",
   "execution_count": 1,
   "id": "dff37319",
   "metadata": {},
   "outputs": [
    {
     "name": "stdout",
     "output_type": "stream",
     "text": [
      "pygame 2.6.1 (SDL 2.28.4, Python 3.12.3)\n",
      "Hello from the pygame community. https://www.pygame.org/contribute.html\n"
     ]
    }
   ],
   "source": [
    "from dataclasses import dataclass\n",
    "from vi import Agent, Config, Simulation, Vector2"
   ]
  },
  {
   "cell_type": "code",
   "execution_count": null,
   "id": "301c61e3",
   "metadata": {},
   "outputs": [
    {
     "data": {
      "text/plain": [
       "<vi.metrics.Metrics at 0x2e129833d40>"
      ]
     },
     "execution_count": 67,
     "metadata": {},
     "output_type": "execute_result"
    },
    {
     "ename": "",
     "evalue": "",
     "output_type": "error",
     "traceback": [
      "\u001b[1;31mThe Kernel crashed while executing code in the current cell or a previous cell. \n",
      "\u001b[1;31mPlease review the code in the cell(s) to identify a possible cause of the failure. \n",
      "\u001b[1;31mClick <a href='https://aka.ms/vscodeJupyterKernelCrash'>here</a> for more info. \n",
      "\u001b[1;31mView Jupyter <a href='command:jupyter.viewOutput'>log</a> for further details."
     ]
    }
   ],
   "source": [
    "@dataclass\n",
    "class FlockingConfig(Config):\n",
    "    alignment_weight: float = 1.1\n",
    "    cohesion_weight: float = 0.03\n",
    "    separation_weight: float = 3.1\n",
    "\n",
    "class FlockingAgent(Agent):\n",
    "    def on_spawn(self):\n",
    "        self.collision_cooldown_threshhold = 20 # number of ticks that agent will not change direction after a collision\n",
    "        self.collision_cooldown = 0 # number of ticks left before agent can change direction after a collision\n",
    "\n",
    "    def on_obstacle_collision(self):\n",
    "        \n",
    "        self.move = -self.move  # 180 turn\n",
    "        self.pos += self.move * self.config.movement_speed\n",
    "        self.collision_cooldown = self.collision_cooldown_threshhold \n",
    "        self.collision_reflection_retry = 0\n",
    "\n",
    "    def change_position(self):\n",
    "        self.there_is_no_escape()\n",
    "        if self.collision_cooldown > 0:\n",
    "            self.pos += self.move\n",
    "            self.collision_cooldown -= 1\n",
    "            return \n",
    "        \n",
    "        intersections = list(self.obstacle_intersections(scale = 1.0))\n",
    "\n",
    "        if intersections:\n",
    "            self.on_obstacle_collision()\n",
    "            return\n",
    "\n",
    "        neighbors = list(self.in_proximity_accuracy())\n",
    "\n",
    "        if not neighbors:\n",
    "            self.pos += self.move \n",
    "            return\n",
    "        \n",
    "        separationVelocity = Vector2() # move away from nearby agents\n",
    "        alignmentVelocity = Vector2() # match the average direction of nearby agents\n",
    "        cohesionVelocity = Vector2() # move toward the average position of nearby agents\n",
    "        num_neighbors = len(neighbors)\n",
    "\n",
    "        for neighbor, distance in neighbors: # loop trough each nearby agent.\n",
    "            offset = self.pos - neighbor.pos # a vector pointing away from the neighbor\n",
    "            if distance > 0:\n",
    "                separationVelocity += offset / (distance**1.3) # push neighbors away\n",
    "\n",
    "            alignmentVelocity += neighbor.move # sum al neighbors movement direction\n",
    "            cohesionVelocity += neighbor.pos # sum all neigbors position\n",
    "\n",
    "        # take the average of each vector to get a single direction fro each behavior\n",
    "        separationVelocity /= num_neighbors\n",
    "        alignmentVelocity /= num_neighbors\n",
    "        cohesionVelocity = (cohesionVelocity / num_neighbors - self.pos)\n",
    "\n",
    "        # multiply bt weights\n",
    "        separationVelocity *= self.config.separation_weight\n",
    "        alignmentVelocity *= self.config.alignment_weight\n",
    "        cohesionVelocity *= self.config.cohesion_weight\n",
    "\n",
    "        # single movement vector for all behaviors\n",
    "        self.move = (separationVelocity + alignmentVelocity + cohesionVelocity).normalize() * self.config.movement_speed\n",
    "        self.pos += self.move\n",
    "\n",
    "config = FlockingConfig(image_rotation = True, movement_speed = 2.0, radius = 50, seed = 777, duration = 10000, fps_limit = 60)\n",
    "x, y = config.window.as_tuple()\n",
    "\n",
    "(\n",
    "    Simulation(config)\n",
    "    .spawn_obstacle(\"images/triangle@200px.png\", x // 2, y // 2)\n",
    "    .batch_spawn_agents(100, FlockingAgent, images=[\"images/triangle.png\"])\n",
    "    .run()\n",
    ")"
   ]
  }
 ],
 "metadata": {
  "kernelspec": {
   "display_name": "main",
   "language": "python",
   "name": "python3"
  },
  "language_info": {
   "codemirror_mode": {
    "name": "ipython",
    "version": 3
   },
   "file_extension": ".py",
   "mimetype": "text/x-python",
   "name": "python",
   "nbconvert_exporter": "python",
   "pygments_lexer": "ipython3",
   "version": "3.12.3"
  }
 },
 "nbformat": 4,
 "nbformat_minor": 5
}
