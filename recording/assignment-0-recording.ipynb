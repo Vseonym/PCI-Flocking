{
 "cells": [
  {
   "cell_type": "code",
   "execution_count": 5,
   "id": "dff37319",
   "metadata": {},
   "outputs": [],
   "source": [
    "from dataclasses import dataclass\n",
    "from vi import Agent, Config, Simulation, Vector2\n",
    "import pygame as pg\n",
    "import os"
   ]
  },
  {
   "cell_type": "code",
   "execution_count": 6,
   "id": "9b1f1081",
   "metadata": {},
   "outputs": [],
   "source": [
    "frame_dir = \"frames\"\n",
    "os.makedirs(frame_dir, exist_ok=True)\n",
    "frame_count = 0\n",
    "\n",
    "def save_frame(screen):\n",
    "    global frame_count\n",
    "    pg.image.save(screen, os.path.join(frame_dir, f\"frame_{frame_count:05d}.png\"))\n",
    "    frame_count += 1"
   ]
  },
  {
   "cell_type": "code",
   "execution_count": 11,
   "id": "c88b4167",
   "metadata": {},
   "outputs": [],
   "source": [
    "class RecordingSimulation(Simulation):\n",
    "    def __init__(self, config):\n",
    "        super().__init__(config)\n",
    "        self.frame_count = 0\n",
    "        os.makedirs(\"frames\", exist_ok=True)\n",
    "\n",
    "    def after_update(self) -> None:\n",
    "        # Draw everything to the screen\n",
    "        self._all.draw(self._screen)\n",
    "\n",
    "        if self.config.visualise_chunks:\n",
    "            self.__visualise_chunks()\n",
    "\n",
    "        # Save current frame as an image\n",
    "        pg.image.save(self._screen, f\"frames/frame_{self.frame_count:05d}.png\")\n",
    "\n",
    "        # Update the screen with the new image\n",
    "        pg.display.flip()\n",
    "\n",
    "        self._clock.tick(self.config.fps_limit)\n",
    "\n",
    "        current_fps = self._clock.get_fps()\n",
    "        if current_fps > 0:\n",
    "            self._metrics.fps._push(current_fps)\n",
    "\n",
    "            if self.config.print_fps:\n",
    "                print(f\"FPS: {current_fps:.1f}\")  # noqa: T201\n",
    "\n",
    "        # Increment a frame counter (you may need to initialize it somewhere)\n",
    "        self.frame_count += 1\n"
   ]
  },
  {
   "cell_type": "code",
   "execution_count": 12,
   "id": "301c61e3",
   "metadata": {},
   "outputs": [
    {
     "ename": "KeyboardInterrupt",
     "evalue": "",
     "output_type": "error",
     "traceback": [
      "\u001b[31m---------------------------------------------------------------------------\u001b[39m",
      "\u001b[31mKeyboardInterrupt\u001b[39m                         Traceback (most recent call last)",
      "\u001b[36mCell\u001b[39m\u001b[36m \u001b[39m\u001b[32mIn[12]\u001b[39m\u001b[32m, line 49\u001b[39m\n\u001b[32m     41\u001b[39m         \u001b[38;5;28mself\u001b[39m.move = (separationVelocity + alignmentVelocity + cohesionVelocity).normalize() * \u001b[38;5;28mself\u001b[39m.config.movement_speed\n\u001b[32m     42\u001b[39m         \u001b[38;5;28mself\u001b[39m.pos += \u001b[38;5;28mself\u001b[39m.move\n\u001b[32m     44\u001b[39m (\n\u001b[32m     45\u001b[39m     \u001b[43mRecordingSimulation\u001b[49m\u001b[43m(\u001b[49m\n\u001b[32m     46\u001b[39m \u001b[43m        \u001b[49m\u001b[43mFlockingConfig\u001b[49m\u001b[43m(\u001b[49m\u001b[43mimage_rotation\u001b[49m\u001b[43m \u001b[49m\u001b[43m=\u001b[49m\u001b[43m \u001b[49m\u001b[38;5;28;43;01mTrue\u001b[39;49;00m\u001b[43m,\u001b[49m\u001b[43m \u001b[49m\u001b[43mmovement_speed\u001b[49m\u001b[43m \u001b[49m\u001b[43m=\u001b[49m\u001b[43m \u001b[49m\u001b[32;43m2.0\u001b[39;49m\u001b[43m,\u001b[49m\u001b[43m \u001b[49m\u001b[43mradius\u001b[49m\u001b[43m \u001b[49m\u001b[43m=\u001b[49m\u001b[43m \u001b[49m\u001b[32;43m50\u001b[39;49m\u001b[43m,\u001b[49m\u001b[43m \u001b[49m\u001b[43mseed\u001b[49m\u001b[43m \u001b[49m\u001b[43m=\u001b[49m\u001b[43m \u001b[49m\u001b[32;43m777\u001b[39;49m\u001b[43m,\u001b[49m\u001b[43m \u001b[49m\u001b[43mduration\u001b[49m\u001b[43m \u001b[49m\u001b[43m=\u001b[49m\u001b[43m \u001b[49m\u001b[32;43m10000\u001b[39;49m\u001b[43m,\u001b[49m\u001b[43m \u001b[49m\u001b[43mfps_limit\u001b[49m\u001b[43m \u001b[49m\u001b[43m=\u001b[49m\u001b[43m \u001b[49m\u001b[32;43m60\u001b[39;49m\u001b[43m)\u001b[49m\n\u001b[32m     47\u001b[39m \u001b[43m    \u001b[49m\u001b[43m)\u001b[49m\n\u001b[32m     48\u001b[39m \u001b[43m    \u001b[49m\u001b[43m.\u001b[49m\u001b[43mbatch_spawn_agents\u001b[49m\u001b[43m(\u001b[49m\u001b[32;43m100\u001b[39;49m\u001b[43m,\u001b[49m\u001b[43m \u001b[49m\u001b[43mFlockingAgent\u001b[49m\u001b[43m,\u001b[49m\u001b[43m \u001b[49m\u001b[43mimages\u001b[49m\u001b[43m=\u001b[49m\u001b[43m[\u001b[49m\u001b[33;43m\"\u001b[39;49m\u001b[33;43mimages/triangle.png\u001b[39;49m\u001b[33;43m\"\u001b[39;49m\u001b[43m]\u001b[49m\u001b[43m)\u001b[49m\n\u001b[32m---> \u001b[39m\u001b[32m49\u001b[39m \u001b[43m    \u001b[49m\u001b[43m.\u001b[49m\u001b[43mrun\u001b[49m\u001b[43m(\u001b[49m\u001b[43m)\u001b[49m\n\u001b[32m     50\u001b[39m )\n",
      "\u001b[36mFile \u001b[39m\u001b[32mc:\\Users\\georg\\anaconda3\\envs\\main\\Lib\\site-packages\\vi\\simulation.py:311\u001b[39m, in \u001b[36mHeadlessSimulation.run\u001b[39m\u001b[34m(self)\u001b[39m\n\u001b[32m    308\u001b[39m \u001b[38;5;28mself\u001b[39m._running = \u001b[38;5;28;01mTrue\u001b[39;00m\n\u001b[32m    310\u001b[39m \u001b[38;5;28;01mwhile\u001b[39;00m \u001b[38;5;28mself\u001b[39m._running:\n\u001b[32m--> \u001b[39m\u001b[32m311\u001b[39m     \u001b[38;5;28;43mself\u001b[39;49m\u001b[43m.\u001b[49m\u001b[43mtick\u001b[49m\u001b[43m(\u001b[49m\u001b[43m)\u001b[49m\n\u001b[32m    313\u001b[39m \u001b[38;5;28;01mreturn\u001b[39;00m \u001b[38;5;28mself\u001b[39m._metrics\n",
      "\u001b[36mFile \u001b[39m\u001b[32mc:\\Users\\georg\\anaconda3\\envs\\main\\Lib\\site-packages\\vi\\simulation.py:353\u001b[39m, in \u001b[36mHeadlessSimulation.tick\u001b[39m\u001b[34m(self)\u001b[39m\n\u001b[32m    350\u001b[39m \u001b[38;5;66;03m# Merge the collected snapshots into the dataframe.\u001b[39;00m\n\u001b[32m    351\u001b[39m \u001b[38;5;28mself\u001b[39m._metrics._merge()\n\u001b[32m--> \u001b[39m\u001b[32m353\u001b[39m \u001b[38;5;28;43mself\u001b[39;49m\u001b[43m.\u001b[49m\u001b[43mafter_update\u001b[49m\u001b[43m(\u001b[49m\u001b[43m)\u001b[49m\n\u001b[32m    355\u001b[39m \u001b[38;5;66;03m# If we've reached the duration of the simulation, then stop the simulation.\u001b[39;00m\n\u001b[32m    356\u001b[39m \u001b[38;5;28;01mif\u001b[39;00m \u001b[38;5;28mself\u001b[39m.config.duration > \u001b[32m0\u001b[39m \u001b[38;5;129;01mand\u001b[39;00m \u001b[38;5;28mself\u001b[39m.shared.counter == \u001b[38;5;28mself\u001b[39m.config.duration:\n",
      "\u001b[36mCell\u001b[39m\u001b[36m \u001b[39m\u001b[32mIn[11]\u001b[39m\u001b[32m, line 20\u001b[39m, in \u001b[36mRecordingSimulation.after_update\u001b[39m\u001b[34m(self)\u001b[39m\n\u001b[32m     17\u001b[39m \u001b[38;5;66;03m# Update the screen with the new image\u001b[39;00m\n\u001b[32m     18\u001b[39m pg.display.flip()\n\u001b[32m---> \u001b[39m\u001b[32m20\u001b[39m \u001b[38;5;28;43mself\u001b[39;49m\u001b[43m.\u001b[49m\u001b[43m_clock\u001b[49m\u001b[43m.\u001b[49m\u001b[43mtick\u001b[49m\u001b[43m(\u001b[49m\u001b[38;5;28;43mself\u001b[39;49m\u001b[43m.\u001b[49m\u001b[43mconfig\u001b[49m\u001b[43m.\u001b[49m\u001b[43mfps_limit\u001b[49m\u001b[43m)\u001b[49m\n\u001b[32m     22\u001b[39m current_fps = \u001b[38;5;28mself\u001b[39m._clock.get_fps()\n\u001b[32m     23\u001b[39m \u001b[38;5;28;01mif\u001b[39;00m current_fps > \u001b[32m0\u001b[39m:\n",
      "\u001b[31mKeyboardInterrupt\u001b[39m: "
     ]
    }
   ],
   "source": [
    "@dataclass\n",
    "class FlockingConfig(Config):\n",
    "    alignment_weight: float = 1.1\n",
    "    cohesion_weight: float = 0.03\n",
    "    separation_weight: float = 3.1\n",
    "\n",
    "class FlockingAgent(Agent):\n",
    "    def change_position(self):\n",
    "        self.there_is_no_escape()\n",
    "\n",
    "        neighbors = list(self.in_proximity_accuracy())\n",
    "\n",
    "        if not neighbors:\n",
    "            self.pos += self.move \n",
    "            return\n",
    "        \n",
    "        separationVelocity = Vector2() # move away from nearby agents\n",
    "        alignmentVelocity = Vector2() # match the average direction of nearby agents\n",
    "        cohesionVelocity = Vector2() # move toward the average position of nearby agents\n",
    "        num_neighbors = len(neighbors)\n",
    "\n",
    "        for neighbor, distance in neighbors: # loop trough each nearby agent.\n",
    "            offset = self.pos - neighbor.pos # a vector pointing away from the neighbor\n",
    "            if distance > 0:\n",
    "                separationVelocity += offset / (distance**1.3) # push neighbors away\n",
    "\n",
    "            alignmentVelocity += neighbor.move # sum al neighbors movement direction\n",
    "            cohesionVelocity += neighbor.pos # sum all neigbors position\n",
    "\n",
    "        # take the average of each vector to get a single direction fro each behavior\n",
    "        separationVelocity /= num_neighbors\n",
    "        alignmentVelocity /= num_neighbors\n",
    "        cohesionVelocity = (cohesionVelocity / num_neighbors - self.pos)\n",
    "\n",
    "        # multiply bt weights\n",
    "        separationVelocity *= self.config.separation_weight\n",
    "        alignmentVelocity *= self.config.alignment_weight\n",
    "        cohesionVelocity *= self.config.cohesion_weight\n",
    "\n",
    "        # single movement vector for all behaviors\n",
    "        self.move = (separationVelocity + alignmentVelocity + cohesionVelocity).normalize() * self.config.movement_speed\n",
    "        self.pos += self.move\n",
    "\n",
    "(\n",
    "    RecordingSimulation(\n",
    "        FlockingConfig(image_rotation = True, movement_speed = 2.0, radius = 50, seed = 777, duration = 10000, fps_limit = 60)\n",
    "    )\n",
    "    .batch_spawn_agents(100, FlockingAgent, images=[\"images/triangle.png\"])\n",
    "    .run()\n",
    ")"
   ]
  }
 ],
 "metadata": {
  "kernelspec": {
   "display_name": "main",
   "language": "python",
   "name": "python3"
  },
  "language_info": {
   "codemirror_mode": {
    "name": "ipython",
    "version": 3
   },
   "file_extension": ".py",
   "mimetype": "text/x-python",
   "name": "python",
   "nbconvert_exporter": "python",
   "pygments_lexer": "ipython3",
   "version": "3.12.3"
  }
 },
 "nbformat": 4,
 "nbformat_minor": 5
}
